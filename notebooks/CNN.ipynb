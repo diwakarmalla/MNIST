{
  "nbformat": 4,
  "nbformat_minor": 0,
  "metadata": {
    "colab": {
      "name": "CNN.ipynb",
      "version": "0.3.2",
      "provenance": [],
      "collapsed_sections": []
    },
    "kernelspec": {
      "name": "python3",
      "display_name": "Python 3"
    },
    "accelerator": "GPU"
  },
  "cells": [
    {
      "metadata": {
        "ExecuteTime": {
          "end_time": "2019-02-15T06:07:02.194061Z",
          "start_time": "2019-02-15T06:06:50.859097Z"
        },
        "id": "q7yD5msTF8bA",
        "colab_type": "code",
        "colab": {
          "base_uri": "https://localhost:8080/",
          "height": 34
        },
        "outputId": "7c29434c-2825-484e-896a-a4064f8a2cad"
      },
      "cell_type": "code",
      "source": [
        "import pandas as pd\n",
        "import numpy as np\n",
        "import matplotlib.pyplot as plt\n",
        "import matplotlib.image as mpimg\n",
        "import seaborn as sns\n",
        "%matplotlib inline\n",
        "\n",
        "np.random.seed(2)\n",
        "\n",
        "from sklearn.model_selection import train_test_split\n",
        "from sklearn.metrics import confusion_matrix\n",
        "import itertools\n",
        "from keras.datasets import mnist\n",
        "from keras.utils.np_utils import to_categorical # convert to one-hot-encoding\n",
        "from keras.models import Sequential\n",
        "from keras.layers import Dense, Dropout, Flatten, Conv2D, MaxPool2D\n",
        "from keras.optimizers import RMSprop\n",
        "from keras.preprocessing.image import ImageDataGenerator\n",
        "from keras.callbacks import ReduceLROnPlateau\n",
        "\n",
        "\n",
        "sns.set(style='white', context='notebook', palette='deep')"
      ],
      "execution_count": 1,
      "outputs": [
        {
          "output_type": "stream",
          "text": [
            "Using TensorFlow backend.\n"
          ],
          "name": "stderr"
        }
      ]
    },
    {
      "metadata": {
        "ExecuteTime": {
          "end_time": "2019-02-15T06:07:33.964643Z",
          "start_time": "2019-02-15T06:07:31.014238Z"
        },
        "id": "0NRkwcvVF8bG",
        "colab_type": "code",
        "colab": {
          "base_uri": "https://localhost:8080/",
          "height": 50
        },
        "outputId": "c2d19600-74e0-4208-ef3e-4ab3f2733200"
      },
      "cell_type": "code",
      "source": [
        "(x_train, y_train), (x_test, y_test) = mnist.load_data()"
      ],
      "execution_count": 2,
      "outputs": [
        {
          "output_type": "stream",
          "text": [
            "Downloading data from https://s3.amazonaws.com/img-datasets/mnist.npz\n",
            "11493376/11490434 [==============================] - 0s 0us/step\n"
          ],
          "name": "stdout"
        }
      ]
    },
    {
      "metadata": {
        "ExecuteTime": {
          "end_time": "2019-02-15T07:03:29.334181Z",
          "start_time": "2019-02-15T07:03:28.581569Z"
        },
        "id": "AiKePeIJF8bP",
        "colab_type": "code",
        "colab": {
          "base_uri": "https://localhost:8080/",
          "height": 382
        },
        "outputId": "ccb5f064-d5ed-4d7e-cec5-bbe602d2c1d2"
      },
      "cell_type": "code",
      "source": [
        "g = sns.countplot(y_train)"
      ],
      "execution_count": 3,
      "outputs": [
        {
          "output_type": "stream",
          "text": [
            "/usr/local/lib/python3.6/dist-packages/seaborn/categorical.py:1428: FutureWarning: remove_na is deprecated and is a private function. Do not use.\n",
            "  stat_data = remove_na(group_data)\n"
          ],
          "name": "stderr"
        },
        {
          "output_type": "display_data",
          "data": {
            "image/png": "[encoded data removed]",
            "text/plain": [
              "<Figure size 576x396 with 1 Axes>"
            ]
          },
          "metadata": {
            "tags": []
          }
        }
      ]
    },
    {
      "metadata": {
        "ExecuteTime": {
          "end_time": "2019-02-15T07:23:49.288374Z",
          "start_time": "2019-02-15T07:23:48.663636Z"
        },
        "id": "amWilpX_F8bV",
        "colab_type": "code",
        "colab": {}
      },
      "cell_type": "code",
      "source": [
        "x_train = x_train / 255.0\n",
        "x_test = x_test / 255.0"
      ],
      "execution_count": 0,
      "outputs": []
    },
    {
      "metadata": {
        "ExecuteTime": {
          "end_time": "2019-02-15T07:29:47.844355Z",
          "start_time": "2019-02-15T07:29:47.840333Z"
        },
        "id": "SBZcCh79F8bZ",
        "colab_type": "code",
        "colab": {}
      },
      "cell_type": "code",
      "source": [
        "# Reshape image in 3 dimensions (height = 28px, width = 28px , canal = 1)\n",
        "x_train = x_train.reshape(-1,28,28,1)\n",
        "x_test = x_test.reshape(-1,28,28,1)"
      ],
      "execution_count": 0,
      "outputs": []
    },
    {
      "metadata": {
        "ExecuteTime": {
          "end_time": "2019-02-15T07:30:15.650109Z",
          "start_time": "2019-02-15T07:30:15.643267Z"
        },
        "id": "6OZNo7HaF8bd",
        "colab_type": "code",
        "colab": {}
      },
      "cell_type": "code",
      "source": [
        "y_train = to_categorical(y_train, num_classes = 10)"
      ],
      "execution_count": 0,
      "outputs": []
    },
    {
      "metadata": {
        "ExecuteTime": {
          "end_time": "2019-02-15T07:31:03.157651Z",
          "start_time": "2019-02-15T07:31:02.781936Z"
        },
        "id": "FIioVZw2F8bh",
        "colab_type": "code",
        "colab": {}
      },
      "cell_type": "code",
      "source": [
        "X_train, X_val, Y_train, Y_val = train_test_split(x_train, y_train, test_size = 0.1, random_state=42)"
      ],
      "execution_count": 0,
      "outputs": []
    },
    {
      "metadata": {
        "ExecuteTime": {
          "end_time": "2019-02-15T07:31:11.846845Z",
          "start_time": "2019-02-15T07:31:11.374589Z"
        },
        "id": "BkWn45cxF8bm",
        "colab_type": "code",
        "colab": {
          "base_uri": "https://localhost:8080/",
          "height": 347
        },
        "outputId": "9a704cf4-1f6a-439f-8608-a53f1d0c9a59"
      },
      "cell_type": "code",
      "source": [
        "g = plt.imshow(X_train[0][:,:,0])"
      ],
      "execution_count": 8,
      "outputs": [
        {
          "output_type": "display_data",
          "data": {
            "image/png": "[encoded data removed]",
            "text/plain": [
              "<Figure size 576x396 with 1 Axes>"
            ]
          },
          "metadata": {
            "tags": []
          }
        }
      ]
    },
    {
      "metadata": {
        "ExecuteTime": {
          "end_time": "2019-02-15T07:31:58.704448Z",
          "start_time": "2019-02-15T07:31:57.817784Z"
        },
        "id": "l-wJ11zkF8bs",
        "colab_type": "code",
        "colab": {
          "base_uri": "https://localhost:8080/",
          "height": 138
        },
        "outputId": "0fcb7b65-6e5b-4fcb-9464-e50b96e688ca"
      },
      "cell_type": "code",
      "source": [
        "model = Sequential()\n",
        "\n",
        "model.add(Conv2D(filters = 32, kernel_size = (5,5),padding = 'Same', \n",
        "                 activation ='relu', input_shape = (28,28,1)))\n",
        "model.add(Conv2D(filters = 32, kernel_size = (5,5),padding = 'Same', \n",
        "                 activation ='relu'))\n",
        "model.add(MaxPool2D(pool_size=(2,2)))\n",
        "model.add(Dropout(0.25))\n",
        "\n",
        "\n",
        "model.add(Conv2D(filters = 64, kernel_size = (3,3),padding = 'Same', \n",
        "                 activation ='relu'))\n",
        "model.add(Conv2D(filters = 64, kernel_size = (3,3),padding = 'Same', \n",
        "                 activation ='relu'))\n",
        "model.add(MaxPool2D(pool_size=(2,2), strides=(2,2)))\n",
        "model.add(Dropout(0.25))\n",
        "\n",
        "\n",
        "model.add(Flatten())\n",
        "model.add(Dense(256, activation = \"relu\"))\n",
        "model.add(Dropout(0.5))\n",
        "model.add(Dense(10, activation = \"softmax\"))"
      ],
      "execution_count": 9,
      "outputs": [
        {
          "output_type": "stream",
          "text": [
            "WARNING:tensorflow:From /usr/local/lib/python3.6/dist-packages/tensorflow/python/framework/op_def_library.py:263: colocate_with (from tensorflow.python.framework.ops) is deprecated and will be removed in a future version.\n",
            "Instructions for updating:\n",
            "Colocations handled automatically by placer.\n",
            "WARNING:tensorflow:From /usr/local/lib/python3.6/dist-packages/keras/backend/tensorflow_backend.py:3445: calling dropout (from tensorflow.python.ops.nn_ops) with keep_prob is deprecated and will be removed in a future version.\n",
            "Instructions for updating:\n",
            "Please use `rate` instead of `keep_prob`. Rate should be set to `rate = 1 - keep_prob`.\n"
          ],
          "name": "stdout"
        }
      ]
    },
    {
      "metadata": {
        "ExecuteTime": {
          "end_time": "2019-02-15T07:32:09.571465Z",
          "start_time": "2019-02-15T07:32:09.547534Z"
        },
        "id": "Ox60qK-iF8by",
        "colab_type": "code",
        "colab": {}
      },
      "cell_type": "code",
      "source": [
        "# Define the optimizer\n",
        "optimizer = RMSprop(lr=0.001, rho=0.9, epsilon=1e-08, decay=0.0)"
      ],
      "execution_count": 0,
      "outputs": []
    },
    {
      "metadata": {
        "ExecuteTime": {
          "end_time": "2019-02-15T07:35:34.024089Z",
          "start_time": "2019-02-15T07:35:33.916586Z"
        },
        "id": "G0P9uGExF8b2",
        "colab_type": "code",
        "colab": {}
      },
      "cell_type": "code",
      "source": [
        "# Compile the model\n",
        "model.compile(optimizer = optimizer , loss = \"categorical_crossentropy\", metrics=[\"accuracy\"])"
      ],
      "execution_count": 0,
      "outputs": []
    },
    {
      "metadata": {
        "ExecuteTime": {
          "end_time": "2019-02-15T07:36:14.363845Z",
          "start_time": "2019-02-15T07:36:14.358857Z"
        },
        "id": "a3-yM2XyF8b6",
        "colab_type": "code",
        "colab": {}
      },
      "cell_type": "code",
      "source": [
        "# Set a learning rate annealer\n",
        "learning_rate_reduction = ReduceLROnPlateau(monitor='val_acc', \n",
        "                                            patience=3, \n",
        "                                            verbose=1, \n",
        "                                            factor=0.5, \n",
        "                                            min_lr=0.00001)"
      ],
      "execution_count": 0,
      "outputs": []
    },
    {
      "metadata": {
        "ExecuteTime": {
          "end_time": "2019-02-15T07:36:33.329241Z",
          "start_time": "2019-02-15T07:36:33.325457Z"
        },
        "id": "EcX7tAFxF8b-",
        "colab_type": "code",
        "colab": {}
      },
      "cell_type": "code",
      "source": [
        "epochs = 30\n",
        "batch_size = 86"
      ],
      "execution_count": 0,
      "outputs": []
    },
    {
      "metadata": {
        "ExecuteTime": {
          "end_time": "2019-02-15T07:37:26.239610Z",
          "start_time": "2019-02-15T07:37:25.892852Z"
        },
        "id": "PTjs0iJXF8cB",
        "colab_type": "code",
        "colab": {}
      },
      "cell_type": "code",
      "source": [
        "datagen = ImageDataGenerator(\n",
        "        featurewise_center=False,  # set input mean to 0 over the dataset\n",
        "        samplewise_center=False,  # set each sample mean to 0\n",
        "        featurewise_std_normalization=False,  # divide inputs by std of the dataset\n",
        "        samplewise_std_normalization=False,  # divide each input by its std\n",
        "        zca_whitening=False,  # apply ZCA whitening\n",
        "        rotation_range=10,  # randomly rotate images in the range (degrees, 0 to 180)\n",
        "        zoom_range = 0.1, # Randomly zoom image \n",
        "        width_shift_range=0.1,  # randomly shift images horizontally (fraction of total width)\n",
        "        height_shift_range=0.1,  # randomly shift images vertically (fraction of total height)\n",
        "        horizontal_flip=False,  # randomly flip images\n",
        "        vertical_flip=False)  # randomly flip images\n",
        "\n",
        "\n",
        "datagen.fit(X_train)"
      ],
      "execution_count": 0,
      "outputs": []
    },
    {
      "metadata": {
        "id": "ka8AdYTlF8cF",
        "colab_type": "code",
        "colab": {
          "base_uri": "https://localhost:8080/",
          "height": 1297
        },
        "outputId": "d8870255-71ce-464e-d92b-4230b5592153"
      },
      "cell_type": "code",
      "source": [
        "history = model.fit_generator(datagen.flow(X_train,Y_train, batch_size=batch_size),\n",
        "                              epochs = epochs, validation_data = (X_val,Y_val),\n",
        "                              verbose = 2, steps_per_epoch=X_train.shape[0] // batch_size\n",
        "                              , callbacks=[learning_rate_reduction])"
      ],
      "execution_count": 15,
      "outputs": [
        {
          "output_type": "stream",
          "text": [
            "WARNING:tensorflow:From /usr/local/lib/python3.6/dist-packages/tensorflow/python/ops/math_ops.py:3066: to_int32 (from tensorflow.python.ops.math_ops) is deprecated and will be removed in a future version.\n",
            "Instructions for updating:\n",
            "Use tf.cast instead.\n",
            "Epoch 1/30\n",
            " - 23s - loss: 0.3323 - acc: 0.8945 - val_loss: 0.0582 - val_acc: 0.9810\n",
            "Epoch 2/30\n",
            " - 18s - loss: 0.1062 - acc: 0.9694 - val_loss: 0.0483 - val_acc: 0.9852\n",
            "Epoch 3/30\n",
            " - 18s - loss: 0.0834 - acc: 0.9751 - val_loss: 0.0319 - val_acc: 0.9910\n",
            "Epoch 4/30\n",
            " - 19s - loss: 0.0742 - acc: 0.9782 - val_loss: 0.0390 - val_acc: 0.9875\n",
            "Epoch 5/30\n",
            " - 19s - loss: 0.0666 - acc: 0.9806 - val_loss: 0.0370 - val_acc: 0.9897\n",
            "Epoch 6/30\n",
            " - 19s - loss: 0.0629 - acc: 0.9820 - val_loss: 0.0384 - val_acc: 0.9882\n",
            "\n",
            "Epoch 00006: ReduceLROnPlateau reducing learning rate to 0.0005000000237487257.\n",
            "Epoch 7/30\n",
            " - 19s - loss: 0.0498 - acc: 0.9857 - val_loss: 0.0261 - val_acc: 0.9937\n",
            "Epoch 8/30\n",
            " - 19s - loss: 0.0477 - acc: 0.9860 - val_loss: 0.0242 - val_acc: 0.9933\n",
            "Epoch 9/30\n",
            " - 19s - loss: 0.0458 - acc: 0.9866 - val_loss: 0.0290 - val_acc: 0.9927\n",
            "Epoch 10/30\n",
            " - 19s - loss: 0.0461 - acc: 0.9868 - val_loss: 0.0216 - val_acc: 0.9947\n",
            "Epoch 11/30\n",
            " - 19s - loss: 0.0465 - acc: 0.9871 - val_loss: 0.0269 - val_acc: 0.9932\n",
            "Epoch 12/30\n",
            " - 19s - loss: 0.0466 - acc: 0.9871 - val_loss: 0.0261 - val_acc: 0.9928\n",
            "Epoch 13/30\n",
            " - 18s - loss: 0.0442 - acc: 0.9875 - val_loss: 0.0280 - val_acc: 0.9927\n",
            "\n",
            "Epoch 00013: ReduceLROnPlateau reducing learning rate to 0.0002500000118743628.\n",
            "Epoch 14/30\n",
            " - 19s - loss: 0.0394 - acc: 0.9888 - val_loss: 0.0256 - val_acc: 0.9937\n",
            "Epoch 15/30\n",
            " - 19s - loss: 0.0384 - acc: 0.9888 - val_loss: 0.0226 - val_acc: 0.9942\n",
            "Epoch 16/30\n",
            " - 18s - loss: 0.0399 - acc: 0.9894 - val_loss: 0.0218 - val_acc: 0.9945\n",
            "\n",
            "Epoch 00016: ReduceLROnPlateau reducing learning rate to 0.0001250000059371814.\n",
            "Epoch 17/30\n",
            " - 19s - loss: 0.0355 - acc: 0.9906 - val_loss: 0.0200 - val_acc: 0.9950\n",
            "Epoch 18/30\n",
            " - 19s - loss: 0.0341 - acc: 0.9907 - val_loss: 0.0224 - val_acc: 0.9950\n",
            "Epoch 19/30\n",
            " - 18s - loss: 0.0340 - acc: 0.9904 - val_loss: 0.0196 - val_acc: 0.9943\n",
            "Epoch 20/30\n",
            " - 19s - loss: 0.0342 - acc: 0.9905 - val_loss: 0.0204 - val_acc: 0.9950\n",
            "\n",
            "Epoch 00020: ReduceLROnPlateau reducing learning rate to 6.25000029685907e-05.\n",
            "Epoch 21/30\n",
            " - 19s - loss: 0.0325 - acc: 0.9905 - val_loss: 0.0216 - val_acc: 0.9942\n",
            "Epoch 22/30\n",
            " - 19s - loss: 0.0296 - acc: 0.9915 - val_loss: 0.0209 - val_acc: 0.9948\n",
            "Epoch 23/30\n",
            " - 19s - loss: 0.0300 - acc: 0.9909 - val_loss: 0.0214 - val_acc: 0.9943\n",
            "\n",
            "Epoch 00023: ReduceLROnPlateau reducing learning rate to 3.125000148429535e-05.\n",
            "Epoch 24/30\n",
            " - 19s - loss: 0.0292 - acc: 0.9917 - val_loss: 0.0196 - val_acc: 0.9948\n",
            "Epoch 25/30\n",
            " - 18s - loss: 0.0300 - acc: 0.9917 - val_loss: 0.0214 - val_acc: 0.9950\n",
            "Epoch 26/30\n",
            " - 18s - loss: 0.0323 - acc: 0.9912 - val_loss: 0.0210 - val_acc: 0.9953\n",
            "Epoch 27/30\n",
            " - 19s - loss: 0.0296 - acc: 0.9913 - val_loss: 0.0213 - val_acc: 0.9945\n",
            "Epoch 28/30\n",
            " - 19s - loss: 0.0302 - acc: 0.9911 - val_loss: 0.0213 - val_acc: 0.9950\n",
            "Epoch 29/30\n",
            " - 18s - loss: 0.0279 - acc: 0.9921 - val_loss: 0.0197 - val_acc: 0.9952\n",
            "\n",
            "Epoch 00029: ReduceLROnPlateau reducing learning rate to 1.5625000742147677e-05.\n",
            "Epoch 30/30\n",
            " - 20s - loss: 0.0318 - acc: 0.9903 - val_loss: 0.0203 - val_acc: 0.9950\n"
          ],
          "name": "stdout"
        }
      ]
    },
    {
      "metadata": {
        "id": "9iC0phBfGKpO",
        "colab_type": "code",
        "colab": {
          "base_uri": "https://localhost:8080/",
          "height": 347
        },
        "outputId": "cb2f85ec-89d0-4bab-ff5f-23163a5deb20"
      },
      "cell_type": "code",
      "source": [
        "# Plot the loss and accuracy curves for training and validation \n",
        "fig, ax = plt.subplots(2,1)\n",
        "ax[0].plot(history.history['loss'], color='b', label=\"Training loss\")\n",
        "ax[0].plot(history.history['val_loss'], color='r', label=\"validation loss\",axes =ax[0])\n",
        "legend = ax[0].legend(loc='best', shadow=True)\n",
        "\n",
        "ax[1].plot(history.history['acc'], color='b', label=\"Training accuracy\")\n",
        "ax[1].plot(history.history['val_acc'], color='r',label=\"Validation accuracy\")\n",
        "legend = ax[1].legend(loc='best', shadow=True)"
      ],
      "execution_count": 16,
      "outputs": [
        {
          "output_type": "display_data",
          "data": {
            "image/png": "[encoded data removed]",
            "text/plain": [
              "<Figure size 576x396 with 2 Axes>"
            ]
          },
          "metadata": {
            "tags": []
          }
        }
      ]
    },
    {
      "metadata": {
        "id": "W2Sket3jIfZJ",
        "colab_type": "code",
        "colab": {}
      },
      "cell_type": "code",
      "source": [
        ""
      ],
      "execution_count": 0,
      "outputs": []
    }
  ]
}